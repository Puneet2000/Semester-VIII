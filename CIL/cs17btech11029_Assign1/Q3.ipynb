{
 "cells": [
  {
   "cell_type": "markdown",
   "metadata": {},
   "source": [
    "### Q3 solutions"
   ]
  },
  {
   "cell_type": "code",
   "execution_count": 56,
   "metadata": {
    "scrolled": true
   },
   "outputs": [
    {
     "name": "stdout",
     "output_type": "stream",
     "text": [
      "              W    T           Y          Z\n",
      "0     65.930285  1.0  133.037480  39.711574\n",
      "1     68.594068  1.0  138.736028  42.295316\n",
      "2     68.876217  1.0  136.780845  39.470262\n",
      "3     65.872578  1.0  132.127421  39.942259\n",
      "4     64.984458  1.0  131.577779  40.294472\n",
      "...         ...  ...         ...        ...\n",
      "9995  67.823474  0.0  135.560934  40.162509\n",
      "9996  64.935745  1.0  129.953785  38.733712\n",
      "9997  66.487476  1.0  135.000673  38.479492\n",
      "9998  64.886946  1.0  132.391927  38.689279\n",
      "9999  69.745985  0.0  139.957677  41.565895\n",
      "\n",
      "[10000 rows x 4 columns]\n"
     ]
    }
   ],
   "source": [
    "# Part 2\n",
    "import numpy as np\n",
    "import pandas as pd\n",
    "w = np.random.normal(65,np.sqrt(5),size=(10000,))\n",
    "t = w/18 + np.random.normal(size=(10000,))\n",
    "t = (t>3.5).astype(np.float32)\n",
    "y = 1.05*t+ 2*w + np.random.normal(size=(10000,))\n",
    "z = 0.4*t + 0.3*y + np.random.normal(size=(10000,))\n",
    "\n",
    "quadraple = np.stack([w,t,y,z], axis=1)\n",
    "df= pd.DataFrame(quadraple, columns=list('WTYZ'))\n",
    "print(df)"
   ]
  },
  {
   "cell_type": "code",
   "execution_count": 57,
   "metadata": {},
   "outputs": [
    {
     "name": "stdout",
     "output_type": "stream",
     "text": [
      "[1.9447327]\n"
     ]
    }
   ],
   "source": [
    "# Part 3\n",
    "from sklearn.linear_model import LinearRegression\n",
    "reg = LinearRegression().fit(np.expand_dims(t,1), y)\n",
    "print(reg.coef_)"
   ]
  },
  {
   "cell_type": "code",
   "execution_count": 62,
   "metadata": {},
   "outputs": [
    {
     "name": "stdout",
     "output_type": "stream",
     "text": [
      "E(Z|do(T=1)) − E(Z|do(T=0)) is  1.0265966653823853\n"
     ]
    }
   ],
   "source": [
    "# Part 4\n",
    "from sklearn.linear_model import LinearRegression\n",
    "reg = LinearRegression().fit(np.expand_dims(t,1), z)\n",
    "data = np.asarray([[1], [0]])\n",
    "prediction = reg.predict(data)\n",
    "print('E(Z|do(T=1)) − E(Z|do(T=0)) is ', prediction[0] - prediction[1])"
   ]
  },
  {
   "cell_type": "code",
   "execution_count": 58,
   "metadata": {},
   "outputs": [
    {
     "name": "stdout",
     "output_type": "stream",
     "text": [
      "E(Y|T=1) − E(Y|T=0) is  1.944732666015625\n",
      "E(Y|do(T=1)) − E(Y|do(T=0))  with {W} as  adjustment  set is  1.0433522169976754\n",
      "E(Y|do(T=1)) − E(Y|do(T=0)) with {W,Z} as adjustment set is  0.825042336428794\n"
     ]
    }
   ],
   "source": [
    "# Part-5\n",
    "# E(Y|T= 1)−E(Y|T= 0)\n",
    "data = np.asarray([[1], [0]])\n",
    "prediction = reg.predict(data)\n",
    "print('E(Y|T=1) − E(Y|T=0) is ', prediction[0] - prediction[1])\n",
    "\n",
    "# E(Y|do(T=  1))−E(Y|do(T=  0))  with {W} as  adjustment  set\n",
    "ones = np.ones((10000,))\n",
    "zeros = np.zeros((10000,))\n",
    "data = np.stack([t, w],axis=1)\n",
    "reg_w = LinearRegression().fit(data, y)\n",
    "data_t1 = np.stack([ones, w],axis=1)\n",
    "data_t0 = np.stack([zeros, w],axis=1)\n",
    "prediction_t1 = reg_w.predict(data_t1).mean()\n",
    "prediction_t0 = reg_w.predict(data_t0).mean()\n",
    "print('E(Y|do(T=1)) − E(Y|do(T=0))  with {W} as  adjustment  set is ',prediction_t1 - prediction_t0)\n",
    "\n",
    "# E(Y|do(T= 1))−E(Y|do(T= 0)) with {W,Z} as adjustment set\n",
    "data = np.stack([t, w, z],axis=1)\n",
    "reg_wz = LinearRegression().fit(data, y)\n",
    "data_t1 = np.stack([ones, w, z],axis=1)\n",
    "data_t0 = np.stack([zeros, w, z],axis=1)\n",
    "prediction_t1 = reg_wz.predict(data_t1).mean()\n",
    "prediction_t0 = reg_wz.predict(data_t0).mean()\n",
    "print('E(Y|do(T=1)) − E(Y|do(T=0)) with {W,Z} as adjustment set is ', prediction_t1 - prediction_t0)"
   ]
  },
  {
   "cell_type": "code",
   "execution_count": null,
   "metadata": {},
   "outputs": [],
   "source": []
  }
 ],
 "metadata": {
  "kernelspec": {
   "display_name": "Python 3",
   "language": "python",
   "name": "python3"
  },
  "language_info": {
   "codemirror_mode": {
    "name": "ipython",
    "version": 3
   },
   "file_extension": ".py",
   "mimetype": "text/x-python",
   "name": "python",
   "nbconvert_exporter": "python",
   "pygments_lexer": "ipython3",
   "version": "3.6.9"
  }
 },
 "nbformat": 4,
 "nbformat_minor": 4
}

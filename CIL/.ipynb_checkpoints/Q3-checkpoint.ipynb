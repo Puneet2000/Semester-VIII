{
 "cells": [
  {
   "cell_type": "code",
   "execution_count": null,
   "metadata": {},
   "outputs": [],
   "source": []
  },
  {
   "cell_type": "code",
   "execution_count": 12,
   "metadata": {},
   "outputs": [
    {
     "name": "stdout",
     "output_type": "stream",
     "text": [
      "              W    T           Y          Z\n",
      "0     67.178896  0.0  137.366205  41.177837\n",
      "1     63.511150  0.0  129.291994  39.396882\n",
      "2     69.211427  0.0  141.764819  44.473646\n",
      "3     59.443932  1.0  125.190032  39.025111\n",
      "4     66.222415  1.0  135.707553  40.858345\n",
      "...         ...  ...         ...        ...\n",
      "9995  65.918665  1.0  136.527559  43.218423\n",
      "9996  66.229155  1.0  138.015075  43.782909\n",
      "9997  64.017500  0.0  131.751242  40.210535\n",
      "9998  63.125573  0.0  130.723732  40.152329\n",
      "9999  63.827251  1.0  132.468577  41.923239\n",
      "\n",
      "[10000 rows x 4 columns]\n"
     ]
    }
   ],
   "source": [
    "import numpy as np\n",
    "import pandas as pd\n",
    "w = np.random.normal(65,5,size=(10000,))\n",
    "t = w/18 + np.random.normal(size=(10000,))\n",
    "y = 1.05*t+ 2*w + np.random.normal(size=(10000,))\n",
    "z = 0.4*t + 0.3*y + np.random.normal(size=(10000,))\n",
    "t = (t>3.5).astype(np.float32)\n",
    "quadraple = np.stack([w,t,y,z], axis=1)\n",
    "df= pd.DataFrame(quadraple, columns=list('WTYZ'))\n",
    "print(df)"
   ]
  },
  {
   "cell_type": "code",
   "execution_count": 13,
   "metadata": {},
   "outputs": [
    {
     "name": "stdout",
     "output_type": "stream",
     "text": [
      "[0.         5.63808466]\n"
     ]
    }
   ],
   "source": [
    "from sklearn.linear_model import LinearRegression\n",
    "ones = np.ones((10000,))\n",
    "data = np.stack([ones,t],axis=1)\n",
    "reg = LinearRegression().fit(data, y)\n",
    "print(reg.coef_)"
   ]
  },
  {
   "cell_type": "code",
   "execution_count": 17,
   "metadata": {},
   "outputs": [
    {
     "name": "stdout",
     "output_type": "stream",
     "text": [
      "5.638084655476888\n",
      "1.6665622728447431\n",
      "1.170989003752652\n"
     ]
    }
   ],
   "source": [
    "# E(Y|T= 1)−E(Y|T= 0)\n",
    "data = np.asarray([[1,1], [1,0]])\n",
    "prediction = reg.predict(data)\n",
    "print('E(Y|T= 1)−E(Y|T= 0) ', prediction[0] - prediction[1])\n",
    "\n",
    "# E(Y|do(T=  1))−E(Y|do(T=  0))  with {W} as  adjustment  set\n",
    "ones = np.ones((10000,))\n",
    "zeros = np.zeros((10000,))\n",
    "data = np.stack([ones,t, w],axis=1)\n",
    "reg_w = LinearRegression().fit(data, y)\n",
    "data_t1 = np.stack([ones, ones, w],axis=1)\n",
    "data_t0 = np.stack([ones, zeros, w],axis=1)\n",
    "prediction_t1 = reg_w.predict(data_t1).mean()\n",
    "prediction_t0 = reg_w.predict(data_t0).mean()\n",
    "print('E(Y|do(T=  1))−E(Y|do(T=  0))  with {W} as  adjustment  set ',prediction_t1 - prediction_t0)\n",
    "\n",
    "# E(Y|do(T= 1))−E(Y|do(T= 0)) with {W,Z} as adjustment set\n",
    "data = np.stack([ones,t, w, z],axis=1)\n",
    "reg_wz = LinearRegression().fit(data, y)\n",
    "data_t1 = np.stack([ones, ones, w, z],axis=1)\n",
    "data_t0 = np.stack([ones, zeros, w, z],axis=1)\n",
    "prediction_t1 = reg_wz.predict(data_t1).mean()\n",
    "prediction_t0 = reg_wz.predict(data_t0).mean()\n",
    "print(prediction_t1 - prediction_t0)"
   ]
  },
  {
   "cell_type": "code",
   "execution_count": null,
   "metadata": {},
   "outputs": [],
   "source": []
  }
 ],
 "metadata": {
  "kernelspec": {
   "display_name": "Python 3",
   "language": "python",
   "name": "python3"
  },
  "language_info": {
   "codemirror_mode": {
    "name": "ipython",
    "version": 3
   },
   "file_extension": ".py",
   "mimetype": "text/x-python",
   "name": "python",
   "nbconvert_exporter": "python",
   "pygments_lexer": "ipython3",
   "version": "3.6.9"
  }
 },
 "nbformat": 4,
 "nbformat_minor": 4
}
